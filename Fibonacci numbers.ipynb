{
 "cells": [
  {
   "cell_type": "markdown",
   "metadata": {},
   "source": [
    "\"Fibonacci Numbers\" is a common problem that can come up in interviews, not simply to test whether someone knows what it is, but assuming you don't know how to solve for it, how would you go about it?\n",
    "\n",
    "First, to define what a Fibonacci number is: \n",
    "\n",
    "\"a sequence such that each number is the sum of the two preceding ones, starting from 0 and 1. That is, and for n > 1\"\n",
    "\n",
    "So we get the sequence 0, 1, 1, 2, 3, 5, 8, 13, 21, 34 for the first 10 numbers. \n",
    "\n",
    "Because we are programming a solution, there are different ways to go about it. The main methods are: recursion, dynamic programming, and space optimized.\n",
    "\n",
    "Functions for the nth Fibonacci number"
   ]
  },
  {
   "cell_type": "markdown",
   "metadata": {},
   "source": [
    "### Recursion Method"
   ]
  },
  {
   "cell_type": "code",
   "execution_count": 1,
   "metadata": {},
   "outputs": [],
   "source": [
    "def Fibonacci_R(n):\n",
    "    if n<=0:\n",
    "        print(\"Incorrect input\")\n",
    "    # First Fibonacci number is 0\n",
    "    elif n==1:\n",
    "        return 0\n",
    "    # Second Fibonacci number is 1\n",
    "    elif n==2:\n",
    "        return 1\n",
    "    else:\n",
    "        return Fibonacci_R(n-1)+Fibonacci_R(n-2)"
   ]
  },
  {
   "cell_type": "markdown",
   "metadata": {},
   "source": [
    "### Dynamic Programming Method"
   ]
  },
  {
   "cell_type": "code",
   "execution_count": 2,
   "metadata": {},
   "outputs": [],
   "source": [
    "FibArray = [0,1]\n",
    " \n",
    "def Fibonacci_DP(n):\n",
    "    if n<=0:\n",
    "        print(\"Incorrect input\")\n",
    "    elif n<=len(FibArray):\n",
    "        return FibArray[n-1]\n",
    "    else:\n",
    "        temp_fib = Fibonacci_DP(n-1)+Fibonacci_DP(n-2)\n",
    "        FibArray.append(temp_fib)\n",
    "        return temp_fib"
   ]
  },
  {
   "cell_type": "markdown",
   "metadata": {},
   "source": [
    "### Space Optimized Method"
   ]
  },
  {
   "cell_type": "code",
   "execution_count": 3,
   "metadata": {},
   "outputs": [],
   "source": [
    "def Fibonacci_SO(n):\n",
    "    a = 0\n",
    "    b = 1\n",
    "    if n <= 0:\n",
    "        print(\"Incorrect input\")\n",
    "    elif n == 1:\n",
    "        return b\n",
    "    else:\n",
    "        for i in range(2,n):\n",
    "            c = a + b\n",
    "            a = b\n",
    "            b = c\n",
    "        return b"
   ]
  },
  {
   "cell_type": "markdown",
   "metadata": {},
   "source": [
    "### The Test\n",
    "Let's test these"
   ]
  },
  {
   "cell_type": "code",
   "execution_count": 4,
   "metadata": {},
   "outputs": [
    {
     "name": "stdout",
     "output_type": "stream",
     "text": [
      "[2584, 2584, 2584]\n"
     ]
    }
   ],
   "source": [
    "q=19\n",
    "r=[Fibonacci_R(q),Fibonacci_DP(q),Fibonacci_SO(q)]\n",
    "print(r)"
   ]
  },
  {
   "cell_type": "markdown",
   "metadata": {},
   "source": [
    "### Better Test"
   ]
  },
  {
   "cell_type": "markdown",
   "metadata": {},
   "source": [
    "We've proven these provide the output we desire, but is there another way to test whether our result is a Fibonacci Number?\n",
    "\n",
    "By definition, \"A number is Fibonacci if and only if one or both of (5*n^2 + 4) or (5*n^2 – 4) is a perfect square\"\n",
    "\n",
    "First, let's define our perfect square function, then run it against our output."
   ]
  },
  {
   "cell_type": "code",
   "execution_count": 5,
   "metadata": {},
   "outputs": [],
   "source": [
    "import math \n",
    "  \n",
    "# returns true if x is perfect square, else false\n",
    "def isPerfectSquare(x): \n",
    "    s = int(math.sqrt(x)) \n",
    "    return s*s == x "
   ]
  },
  {
   "cell_type": "code",
   "execution_count": 25,
   "metadata": {},
   "outputs": [],
   "source": [
    "def is_PS(n): \n",
    "    # n is Fibinacci if one of 5*n*n + 4 or 5*n*n - 4 or both \n",
    "    # is a perferct square \n",
    "    return isPerfectSquare(5*n*n + 4) or isPerfectSquare(5*n*n - 4) \n",
    "\n",
    "def isFibonacci(n):\n",
    "    if (is_PS(n) == True): \n",
    "        print(n,\"is a Fibonacci Number\")\n",
    "    else: \n",
    "        print(n,\"is a not Fibonacci Number\")"
   ]
  },
  {
   "cell_type": "code",
   "execution_count": 26,
   "metadata": {},
   "outputs": [
    {
     "name": "stdout",
     "output_type": "stream",
     "text": [
      "2584 is a Fibonacci Number\n"
     ]
    }
   ],
   "source": [
    "isFibonacci(r[0])"
   ]
  },
  {
   "cell_type": "markdown",
   "metadata": {},
   "source": [
    "### The Test\n",
    "Let's test these"
   ]
  },
  {
   "cell_type": "code",
   "execution_count": 20,
   "metadata": {},
   "outputs": [
    {
     "data": {
      "text/plain": [
       "[True, True, True]"
      ]
     },
     "execution_count": 20,
     "metadata": {},
     "output_type": "execute_result"
    }
   ],
   "source": [
    "[isFibonacci(r[0]),isFibonacci(r[1]),isFibonacci(r[2])]"
   ]
  },
  {
   "cell_type": "markdown",
   "metadata": {},
   "source": [
    "Finally, what if you want to use user input for this? Say you are on a virtual call and they want to run the program themselves and only enter a number, and have it provide the result, as well as confirmations that the result it truly Fibonacci? "
   ]
  },
  {
   "cell_type": "markdown",
   "metadata": {},
   "source": [
    "#### Finding the nth Fibonacci Number"
   ]
  },
  {
   "cell_type": "code",
   "execution_count": 12,
   "metadata": {},
   "outputs": [
    {
     "name": "stdout",
     "output_type": "stream",
     "text": [
      "To find the nth Fibonacci Number, type in an integer for that position: 12\n",
      "Your integer 12 references the Fibonacci Number 89\n"
     ]
    }
   ],
   "source": [
    "def Fibonacci_R(n):\n",
    "    if n<=0:\n",
    "        print(\"Incorrect input\")\n",
    "    # First Fibonacci number is 0\n",
    "    elif n==1:\n",
    "        return 0\n",
    "    # Second Fibonacci number is 1\n",
    "    elif n==2:\n",
    "        return 1\n",
    "    else:\n",
    "        return Fibonacci_R(n-1)+Fibonacci_R(n-2)\n",
    "txt = int(input(\"To find the nth Fibonacci Number, type in an integer for that position: \"))\n",
    "print(\"Your integer\",txt,\"references the Fibonacci Number\",Fibonacci_R(txt))"
   ]
  },
  {
   "cell_type": "markdown",
   "metadata": {},
   "source": [
    "#### Is this number a Fibonacci Number?"
   ]
  },
  {
   "cell_type": "code",
   "execution_count": 34,
   "metadata": {},
   "outputs": [
    {
     "name": "stdout",
     "output_type": "stream",
     "text": [
      "Please enter an integer to see if it is a Fibonacci Number 15\n",
      "Your integer 15 is a not Fibonacci Number\n"
     ]
    }
   ],
   "source": [
    "txt = int(input(\"Please enter an integer to see if it is a Fibonacci Number \"))\n",
    "import math \n",
    "def is_PS(n): \n",
    "    # n is Fibinacci if one of 5*n*n + 4 or 5*n*n - 4 or both \n",
    "    # is a perferct square \n",
    "    return isPerfectSquare(5*n*n + 4) or isPerfectSquare(5*n*n - 4) \n",
    "\n",
    "def isFibonacci(n):\n",
    "    if (is_PS(n) == True): \n",
    "        print(\"Your integer\",txt,\"is a Fibonacci Number\")\n",
    "    else: \n",
    "        print(\"Your integer\",txt,\"is a not Fibonacci Number\")\n",
    "isFibonacci(txt)"
   ]
  }
 ],
 "metadata": {
  "kernelspec": {
   "display_name": "Python 3",
   "language": "python",
   "name": "python3"
  },
  "language_info": {
   "codemirror_mode": {
    "name": "ipython",
    "version": 3
   },
   "file_extension": ".py",
   "mimetype": "text/x-python",
   "name": "python",
   "nbconvert_exporter": "python",
   "pygments_lexer": "ipython3",
   "version": "3.7.4"
  }
 },
 "nbformat": 4,
 "nbformat_minor": 2
}
